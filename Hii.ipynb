{
  "nbformat": 4,
  "nbformat_minor": 0,
  "metadata": {
    "colab": {
      "provenance": [],
      "toc_visible": true,
      "authorship_tag": "ABX9TyMlwpQsYyFtPizxgc5VBT76",
      "include_colab_link": true
    },
    "kernelspec": {
      "name": "python3",
      "display_name": "Python 3"
    },
    "language_info": {
      "name": "python"
    }
  },
  "cells": [
    {
      "cell_type": "markdown",
      "metadata": {
        "id": "view-in-github",
        "colab_type": "text"
      },
      "source": [
        "<a href=\"https://colab.research.google.com/github/Huyenle13/GS2DIT/blob/main/Hii.ipynb\" target=\"_parent\"><img src=\"https://colab.research.google.com/assets/colab-badge.svg\" alt=\"Open In Colab\"/></a>"
      ]
    },
    {
      "cell_type": "code",
      "execution_count": null,
      "metadata": {
        "id": "xAVEo04WH9BF"
      },
      "outputs": [],
      "source": []
    },
    {
      "cell_type": "markdown",
      "source": [
        "#Section 1"
      ],
      "metadata": {
        "id": "5-V9qnrGJ5kX"
      }
    },
    {
      "cell_type": "code",
      "source": [
        "a=1"
      ],
      "metadata": {
        "id": "C64rvWeGMMYt"
      },
      "execution_count": null,
      "outputs": []
    },
    {
      "cell_type": "code",
      "source": [
        "b=2"
      ],
      "metadata": {
        "id": "X4pjOlglMMUN"
      },
      "execution_count": null,
      "outputs": []
    },
    {
      "cell_type": "code",
      "source": [
        "a+b"
      ],
      "metadata": {
        "id": "69--a28bMMPV"
      },
      "execution_count": null,
      "outputs": []
    },
    {
      "cell_type": "markdown",
      "source": [
        "#Section 2"
      ],
      "metadata": {
        "id": "EubAmA_fLwQL"
      }
    },
    {
      "cell_type": "markdown",
      "source": [
        "**print(,,helloworld'')**"
      ],
      "metadata": {
        "id": "l3ORtHVjMTBd"
      }
    },
    {
      "cell_type": "markdown",
      "source": [
        "*print(,,helloworld'')*"
      ],
      "metadata": {
        "id": "eWsLiRTcMS6t"
      }
    },
    {
      "cell_type": "markdown",
      "source": [
        "`print(,,helloworld'')`"
      ],
      "metadata": {
        "id": "SnUY0ElkMSDN"
      }
    }
  ]
}